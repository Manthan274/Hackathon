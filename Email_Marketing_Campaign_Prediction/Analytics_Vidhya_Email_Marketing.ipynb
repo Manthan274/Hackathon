{
 "cells": [
  {
   "cell_type": "code",
   "execution_count": 341,
   "metadata": {},
   "outputs": [],
   "source": [
    "import numpy as np\n",
    "import pandas as pd\n",
    "from datetime import datetime\n",
    "import matplotlib.pyplot as plt\n",
    "%matplotlib inline"
   ]
  },
  {
   "cell_type": "code",
   "execution_count": 342,
   "metadata": {},
   "outputs": [
    {
     "name": "stdout",
     "output_type": "stream",
     "text": [
      "          id  user_id  campaign_id         send_date  is_open  is_click\n",
      "0   42_14051    14051           42  01-09-2017 19:55        0         0\n",
      "1  52_134438   134438           52  02-11-2017 12:53        0         0\n",
      "2  33_181789   181789           33  24-07-2017 15:15        0         0\n",
      "3  44_231448   231448           44  05-09-2017 11:36        0         0\n",
      "4  29_185580   185580           29  01-07-2017 18:01        0         0\n",
      "<class 'pandas.core.frame.DataFrame'>\n",
      "RangeIndex: 1023191 entries, 0 to 1023190\n",
      "Data columns (total 6 columns):\n",
      "id             1023191 non-null object\n",
      "user_id        1023191 non-null int64\n",
      "campaign_id    1023191 non-null int64\n",
      "send_date      1023191 non-null object\n",
      "is_open        1023191 non-null int64\n",
      "is_click       1023191 non-null int64\n",
      "dtypes: int64(4), object(2)\n",
      "memory usage: 46.8+ MB\n",
      "None\n"
     ]
    }
   ],
   "source": [
    "train_base=pd.read_csv('train.csv')\n",
    "test_base=pd.read_csv('test.csv')\n",
    "data=pd.read_csv('campaign_data.csv')\n",
    "print(train_base.head())\n",
    "print(train_base.info())"
   ]
  },
  {
   "cell_type": "code",
   "execution_count": 343,
   "metadata": {},
   "outputs": [],
   "source": [
    "#train_base['send_date']=pd.to_datetime(train_base['send_date'])\n",
    "#test_base['send_date']=pd.to_datetime(test_base['send_date'])"
   ]
  },
  {
   "cell_type": "code",
   "execution_count": 344,
   "metadata": {},
   "outputs": [
    {
     "name": "stdout",
     "output_type": "stream",
     "text": [
      "<class 'pandas.core.frame.DataFrame'>\n",
      "RangeIndex: 1023191 entries, 0 to 1023190\n",
      "Data columns (total 6 columns):\n",
      "id             1023191 non-null object\n",
      "user_id        1023191 non-null int64\n",
      "campaign_id    1023191 non-null int64\n",
      "send_date      1023191 non-null object\n",
      "is_open        1023191 non-null int64\n",
      "is_click       1023191 non-null int64\n",
      "dtypes: int64(4), object(2)\n",
      "memory usage: 46.8+ MB\n"
     ]
    }
   ],
   "source": [
    "train_base.info()"
   ]
  },
  {
   "cell_type": "code",
   "execution_count": 345,
   "metadata": {},
   "outputs": [],
   "source": [
    "#train_base['date']=train_base['send_date'].apply(lambda x:x.date()).astype(datetime)\n",
    "#train_base['day']=train_base['send_date'].apply(lambda x:x.weekday())\n",
    "#train_base['time']=train_base['send_date'].apply(lambda x:x.strftime('%H')).astype(int)\n",
    "\n",
    "#test_base['date']=test_base['send_date'].apply(lambda x:x.date()).astype(datetime)\n",
    "#test_base['day']=test_base['send_date'].apply(lambda x:x.weekday())\n",
    "#test_base['time']=test_base['send_date'].apply(lambda x:x.strftime('%H')).astype(int)"
   ]
  },
  {
   "cell_type": "code",
   "execution_count": 346,
   "metadata": {},
   "outputs": [],
   "source": [
    "#train_base.to_csv('train_base_clean.csv', index=False)\n",
    "#test_base.to_csv('test_clean.csv', index=False)\n",
    "\n",
    "train_base=pd.read_csv('train_base_clean.csv')\n",
    "test_clean=pd.read_csv('test_clean.csv')\n",
    "data=pd.read_csv('campaign_data.csv')"
   ]
  },
  {
   "cell_type": "code",
   "execution_count": 347,
   "metadata": {},
   "outputs": [
    {
     "data": {
      "text/html": [
       "<div>\n",
       "<style scoped>\n",
       "    .dataframe tbody tr th:only-of-type {\n",
       "        vertical-align: middle;\n",
       "    }\n",
       "\n",
       "    .dataframe tbody tr th {\n",
       "        vertical-align: top;\n",
       "    }\n",
       "\n",
       "    .dataframe thead th {\n",
       "        text-align: right;\n",
       "    }\n",
       "</style>\n",
       "<table border=\"1\" class=\"dataframe\">\n",
       "  <thead>\n",
       "    <tr style=\"text-align: right;\">\n",
       "      <th></th>\n",
       "      <th>campaign_id</th>\n",
       "      <th>communication_type</th>\n",
       "      <th>total_links</th>\n",
       "      <th>no_of_internal_links</th>\n",
       "      <th>no_of_images</th>\n",
       "      <th>no_of_sections</th>\n",
       "      <th>email_body</th>\n",
       "      <th>subject</th>\n",
       "      <th>email_url</th>\n",
       "    </tr>\n",
       "  </thead>\n",
       "  <tbody>\n",
       "    <tr>\n",
       "      <th>0</th>\n",
       "      <td>29</td>\n",
       "      <td>Newsletter</td>\n",
       "      <td>67</td>\n",
       "      <td>61</td>\n",
       "      <td>12</td>\n",
       "      <td>3</td>\n",
       "      <td>Dear AVians,\\r\\n \\r\\nWe are shaping up a super...</td>\n",
       "      <td>Sneak Peek: A look at the emerging data scienc...</td>\n",
       "      <td>http://r.newsletters.analyticsvidhya.com/7um44...</td>\n",
       "    </tr>\n",
       "    <tr>\n",
       "      <th>1</th>\n",
       "      <td>30</td>\n",
       "      <td>Upcoming Events</td>\n",
       "      <td>18</td>\n",
       "      <td>14</td>\n",
       "      <td>7</td>\n",
       "      <td>1</td>\n",
       "      <td>Dear AVians,\\r\\n \\r\\nAre your eager to know wh...</td>\n",
       "      <td>[July] Data Science Expert Meetups &amp; Competiti...</td>\n",
       "      <td>http://r.newsletters.analyticsvidhya.com/7up0e...</td>\n",
       "    </tr>\n",
       "  </tbody>\n",
       "</table>\n",
       "</div>"
      ],
      "text/plain": [
       "   campaign_id communication_type  total_links  no_of_internal_links  \\\n",
       "0           29         Newsletter           67                    61   \n",
       "1           30    Upcoming Events           18                    14   \n",
       "\n",
       "   no_of_images  no_of_sections  \\\n",
       "0            12               3   \n",
       "1             7               1   \n",
       "\n",
       "                                          email_body  \\\n",
       "0  Dear AVians,\\r\\n \\r\\nWe are shaping up a super...   \n",
       "1  Dear AVians,\\r\\n \\r\\nAre your eager to know wh...   \n",
       "\n",
       "                                             subject  \\\n",
       "0  Sneak Peek: A look at the emerging data scienc...   \n",
       "1  [July] Data Science Expert Meetups & Competiti...   \n",
       "\n",
       "                                           email_url  \n",
       "0  http://r.newsletters.analyticsvidhya.com/7um44...  \n",
       "1  http://r.newsletters.analyticsvidhya.com/7up0e...  "
      ]
     },
     "execution_count": 347,
     "metadata": {},
     "output_type": "execute_result"
    }
   ],
   "source": [
    "data.head(2)"
   ]
  },
  {
   "cell_type": "code",
   "execution_count": 348,
   "metadata": {},
   "outputs": [
    {
     "data": {
      "text/html": [
       "<div>\n",
       "<style scoped>\n",
       "    .dataframe tbody tr th:only-of-type {\n",
       "        vertical-align: middle;\n",
       "    }\n",
       "\n",
       "    .dataframe tbody tr th {\n",
       "        vertical-align: top;\n",
       "    }\n",
       "\n",
       "    .dataframe thead th {\n",
       "        text-align: right;\n",
       "    }\n",
       "</style>\n",
       "<table border=\"1\" class=\"dataframe\">\n",
       "  <thead>\n",
       "    <tr style=\"text-align: right;\">\n",
       "      <th></th>\n",
       "      <th>id</th>\n",
       "      <th>campaign_id</th>\n",
       "      <th>user_id</th>\n",
       "      <th>send_date</th>\n",
       "    </tr>\n",
       "  </thead>\n",
       "  <tbody>\n",
       "    <tr>\n",
       "      <th>0</th>\n",
       "      <td>63_122715</td>\n",
       "      <td>63</td>\n",
       "      <td>122715</td>\n",
       "      <td>01-02-2018 22:35</td>\n",
       "    </tr>\n",
       "    <tr>\n",
       "      <th>1</th>\n",
       "      <td>56_76206</td>\n",
       "      <td>56</td>\n",
       "      <td>76206</td>\n",
       "      <td>02-01-2018 08:15</td>\n",
       "    </tr>\n",
       "    <tr>\n",
       "      <th>2</th>\n",
       "      <td>57_96189</td>\n",
       "      <td>57</td>\n",
       "      <td>96189</td>\n",
       "      <td>05-01-2018 18:25</td>\n",
       "    </tr>\n",
       "    <tr>\n",
       "      <th>3</th>\n",
       "      <td>56_166917</td>\n",
       "      <td>56</td>\n",
       "      <td>166917</td>\n",
       "      <td>02-01-2018 08:15</td>\n",
       "    </tr>\n",
       "    <tr>\n",
       "      <th>4</th>\n",
       "      <td>56_172838</td>\n",
       "      <td>56</td>\n",
       "      <td>172838</td>\n",
       "      <td>02-01-2018 08:12</td>\n",
       "    </tr>\n",
       "  </tbody>\n",
       "</table>\n",
       "</div>"
      ],
      "text/plain": [
       "          id  campaign_id  user_id         send_date\n",
       "0  63_122715           63   122715  01-02-2018 22:35\n",
       "1   56_76206           56    76206  02-01-2018 08:15\n",
       "2   57_96189           57    96189  05-01-2018 18:25\n",
       "3  56_166917           56   166917  02-01-2018 08:15\n",
       "4  56_172838           56   172838  02-01-2018 08:12"
      ]
     },
     "execution_count": 348,
     "metadata": {},
     "output_type": "execute_result"
    }
   ],
   "source": [
    "test_base.head()"
   ]
  },
  {
   "cell_type": "code",
   "execution_count": 349,
   "metadata": {},
   "outputs": [
    {
     "name": "stdout",
     "output_type": "stream",
     "text": [
      "   campaign_id communication_type  total_links  no_of_internal_links  \\\n",
      "0           29         Newsletter           67                    61   \n",
      "1           30    Upcoming Events           18                    14   \n",
      "\n",
      "   no_of_images  no_of_sections  email_char  \n",
      "0            12               3         242  \n",
      "1             7               1          33  \n",
      "          id  user_id  campaign_id            send_date  is_open  is_click  \\\n",
      "0   42_14051    14051           42  2017-01-09 19:55:00        0         0   \n",
      "1  52_134438   134438           52  2017-02-11 12:53:00        0         0   \n",
      "\n",
      "         date  day  time  \n",
      "0  2017-01-09    0    19  \n",
      "1  2017-02-11    5    12  \n",
      "          id  campaign_id  user_id            send_date        date  day  time\n",
      "0  63_122715           63   122715  2018-01-02 22:35:00  2018-01-02    1    22\n",
      "1   56_76206           56    76206  2018-02-01 08:15:00  2018-02-01    3     8\n"
     ]
    }
   ],
   "source": [
    "import re\n",
    "data['email_char']=data['email_body'].apply(lambda x: len(re.findall(\"[a-zA-Z_]+\", x)))\n",
    "data.drop(['email_body', 'subject','email_url'], axis=1, inplace=True)\n",
    "print(data.head(2))\n",
    "print(train_base.head(2))\n",
    "print(test_clean.head(2))"
   ]
  },
  {
   "cell_type": "code",
   "execution_count": 350,
   "metadata": {},
   "outputs": [
    {
     "data": {
      "text/html": [
       "<div>\n",
       "<style scoped>\n",
       "    .dataframe tbody tr th:only-of-type {\n",
       "        vertical-align: middle;\n",
       "    }\n",
       "\n",
       "    .dataframe tbody tr th {\n",
       "        vertical-align: top;\n",
       "    }\n",
       "\n",
       "    .dataframe thead th {\n",
       "        text-align: right;\n",
       "    }\n",
       "</style>\n",
       "<table border=\"1\" class=\"dataframe\">\n",
       "  <thead>\n",
       "    <tr style=\"text-align: right;\">\n",
       "      <th></th>\n",
       "      <th>id</th>\n",
       "      <th>user_id</th>\n",
       "      <th>campaign_id</th>\n",
       "      <th>send_date</th>\n",
       "      <th>is_open</th>\n",
       "      <th>is_click</th>\n",
       "      <th>date</th>\n",
       "      <th>day</th>\n",
       "      <th>time</th>\n",
       "      <th>communication_type</th>\n",
       "      <th>total_links</th>\n",
       "      <th>no_of_internal_links</th>\n",
       "      <th>no_of_images</th>\n",
       "      <th>no_of_sections</th>\n",
       "      <th>email_char</th>\n",
       "    </tr>\n",
       "  </thead>\n",
       "  <tbody>\n",
       "    <tr>\n",
       "      <th>0</th>\n",
       "      <td>42_14051</td>\n",
       "      <td>14051</td>\n",
       "      <td>42</td>\n",
       "      <td>2017-01-09 19:55:00</td>\n",
       "      <td>0</td>\n",
       "      <td>0</td>\n",
       "      <td>2017-01-09</td>\n",
       "      <td>0</td>\n",
       "      <td>19</td>\n",
       "      <td>Newsletter</td>\n",
       "      <td>88</td>\n",
       "      <td>79</td>\n",
       "      <td>13</td>\n",
       "      <td>4</td>\n",
       "      <td>231</td>\n",
       "    </tr>\n",
       "    <tr>\n",
       "      <th>1</th>\n",
       "      <td>52_134438</td>\n",
       "      <td>134438</td>\n",
       "      <td>52</td>\n",
       "      <td>2017-02-11 12:53:00</td>\n",
       "      <td>0</td>\n",
       "      <td>0</td>\n",
       "      <td>2017-02-11</td>\n",
       "      <td>5</td>\n",
       "      <td>12</td>\n",
       "      <td>Newsletter</td>\n",
       "      <td>67</td>\n",
       "      <td>62</td>\n",
       "      <td>10</td>\n",
       "      <td>4</td>\n",
       "      <td>158</td>\n",
       "    </tr>\n",
       "    <tr>\n",
       "      <th>2</th>\n",
       "      <td>33_181789</td>\n",
       "      <td>181789</td>\n",
       "      <td>33</td>\n",
       "      <td>2017-07-24 15:15:00</td>\n",
       "      <td>0</td>\n",
       "      <td>0</td>\n",
       "      <td>2017-07-24</td>\n",
       "      <td>0</td>\n",
       "      <td>15</td>\n",
       "      <td>Others</td>\n",
       "      <td>7</td>\n",
       "      <td>3</td>\n",
       "      <td>1</td>\n",
       "      <td>1</td>\n",
       "      <td>119</td>\n",
       "    </tr>\n",
       "    <tr>\n",
       "      <th>3</th>\n",
       "      <td>44_231448</td>\n",
       "      <td>231448</td>\n",
       "      <td>44</td>\n",
       "      <td>2017-05-09 11:36:00</td>\n",
       "      <td>0</td>\n",
       "      <td>0</td>\n",
       "      <td>2017-05-09</td>\n",
       "      <td>1</td>\n",
       "      <td>11</td>\n",
       "      <td>Upcoming Events</td>\n",
       "      <td>60</td>\n",
       "      <td>56</td>\n",
       "      <td>19</td>\n",
       "      <td>6</td>\n",
       "      <td>42</td>\n",
       "    </tr>\n",
       "    <tr>\n",
       "      <th>4</th>\n",
       "      <td>29_185580</td>\n",
       "      <td>185580</td>\n",
       "      <td>29</td>\n",
       "      <td>2017-01-07 18:01:00</td>\n",
       "      <td>0</td>\n",
       "      <td>0</td>\n",
       "      <td>2017-01-07</td>\n",
       "      <td>5</td>\n",
       "      <td>18</td>\n",
       "      <td>Newsletter</td>\n",
       "      <td>67</td>\n",
       "      <td>61</td>\n",
       "      <td>12</td>\n",
       "      <td>3</td>\n",
       "      <td>242</td>\n",
       "    </tr>\n",
       "  </tbody>\n",
       "</table>\n",
       "</div>"
      ],
      "text/plain": [
       "          id  user_id  campaign_id            send_date  is_open  is_click  \\\n",
       "0   42_14051    14051           42  2017-01-09 19:55:00        0         0   \n",
       "1  52_134438   134438           52  2017-02-11 12:53:00        0         0   \n",
       "2  33_181789   181789           33  2017-07-24 15:15:00        0         0   \n",
       "3  44_231448   231448           44  2017-05-09 11:36:00        0         0   \n",
       "4  29_185580   185580           29  2017-01-07 18:01:00        0         0   \n",
       "\n",
       "         date  day  time communication_type  total_links  \\\n",
       "0  2017-01-09    0    19         Newsletter           88   \n",
       "1  2017-02-11    5    12         Newsletter           67   \n",
       "2  2017-07-24    0    15             Others            7   \n",
       "3  2017-05-09    1    11    Upcoming Events           60   \n",
       "4  2017-01-07    5    18         Newsletter           67   \n",
       "\n",
       "   no_of_internal_links  no_of_images  no_of_sections  email_char  \n",
       "0                    79            13               4         231  \n",
       "1                    62            10               4         158  \n",
       "2                     3             1               1         119  \n",
       "3                    56            19               6          42  \n",
       "4                    61            12               3         242  "
      ]
     },
     "execution_count": 350,
     "metadata": {},
     "output_type": "execute_result"
    }
   ],
   "source": [
    "train=train_base.merge(data, how='left', on='campaign_id')\n",
    "test=test_clean.merge(data, how='left', on='campaign_id')\n",
    "train.head()"
   ]
  },
  {
   "cell_type": "code",
   "execution_count": 351,
   "metadata": {},
   "outputs": [],
   "source": [
    "train=train[['day', 'time', 'communication_type', 'total_links',\n",
    "       'no_of_internal_links', 'no_of_images', 'no_of_sections', 'email_char', 'is_open', 'is_click']]\n",
    "\n",
    "test=test[['day', 'time', 'communication_type', 'total_links',\n",
    "       'no_of_internal_links', 'no_of_images', 'no_of_sections', 'email_char']]"
   ]
  },
  {
   "cell_type": "code",
   "execution_count": 352,
   "metadata": {},
   "outputs": [],
   "source": [
    "train['communication_type']=train['communication_type'].map({'Newsletter':0, 'Upcoming Events':1, 'Conference':3, \n",
    "                                               'Others':4, 'Webinar':5,'Corporate':6, 'Hackathon':7}).astype(int)\n",
    "\n",
    "test['communication_type']=test['communication_type'].map({'Newsletter':0, 'Upcoming Events':1, 'Conference':3, \n",
    "                                               'Others':4, 'Webinar':5,'Corporate':6, 'Hackathon':7}).astype(int)"
   ]
  },
  {
   "cell_type": "code",
   "execution_count": 353,
   "metadata": {},
   "outputs": [
    {
     "data": {
      "text/html": [
       "<div>\n",
       "<style scoped>\n",
       "    .dataframe tbody tr th:only-of-type {\n",
       "        vertical-align: middle;\n",
       "    }\n",
       "\n",
       "    .dataframe tbody tr th {\n",
       "        vertical-align: top;\n",
       "    }\n",
       "\n",
       "    .dataframe thead th {\n",
       "        text-align: right;\n",
       "    }\n",
       "</style>\n",
       "<table border=\"1\" class=\"dataframe\">\n",
       "  <thead>\n",
       "    <tr style=\"text-align: right;\">\n",
       "      <th></th>\n",
       "      <th>day</th>\n",
       "      <th>time</th>\n",
       "      <th>communication_type</th>\n",
       "      <th>total_links</th>\n",
       "      <th>no_of_internal_links</th>\n",
       "      <th>no_of_images</th>\n",
       "      <th>no_of_sections</th>\n",
       "      <th>email_char</th>\n",
       "      <th>is_open</th>\n",
       "      <th>is_click</th>\n",
       "    </tr>\n",
       "  </thead>\n",
       "  <tbody>\n",
       "    <tr>\n",
       "      <th>0</th>\n",
       "      <td>0</td>\n",
       "      <td>19</td>\n",
       "      <td>0</td>\n",
       "      <td>88</td>\n",
       "      <td>79</td>\n",
       "      <td>13</td>\n",
       "      <td>4</td>\n",
       "      <td>231</td>\n",
       "      <td>0</td>\n",
       "      <td>0</td>\n",
       "    </tr>\n",
       "    <tr>\n",
       "      <th>1</th>\n",
       "      <td>5</td>\n",
       "      <td>12</td>\n",
       "      <td>0</td>\n",
       "      <td>67</td>\n",
       "      <td>62</td>\n",
       "      <td>10</td>\n",
       "      <td>4</td>\n",
       "      <td>158</td>\n",
       "      <td>0</td>\n",
       "      <td>0</td>\n",
       "    </tr>\n",
       "    <tr>\n",
       "      <th>2</th>\n",
       "      <td>0</td>\n",
       "      <td>15</td>\n",
       "      <td>4</td>\n",
       "      <td>7</td>\n",
       "      <td>3</td>\n",
       "      <td>1</td>\n",
       "      <td>1</td>\n",
       "      <td>119</td>\n",
       "      <td>0</td>\n",
       "      <td>0</td>\n",
       "    </tr>\n",
       "    <tr>\n",
       "      <th>3</th>\n",
       "      <td>1</td>\n",
       "      <td>11</td>\n",
       "      <td>1</td>\n",
       "      <td>60</td>\n",
       "      <td>56</td>\n",
       "      <td>19</td>\n",
       "      <td>6</td>\n",
       "      <td>42</td>\n",
       "      <td>0</td>\n",
       "      <td>0</td>\n",
       "    </tr>\n",
       "    <tr>\n",
       "      <th>4</th>\n",
       "      <td>5</td>\n",
       "      <td>18</td>\n",
       "      <td>0</td>\n",
       "      <td>67</td>\n",
       "      <td>61</td>\n",
       "      <td>12</td>\n",
       "      <td>3</td>\n",
       "      <td>242</td>\n",
       "      <td>0</td>\n",
       "      <td>0</td>\n",
       "    </tr>\n",
       "  </tbody>\n",
       "</table>\n",
       "</div>"
      ],
      "text/plain": [
       "   day  time  communication_type  total_links  no_of_internal_links  \\\n",
       "0    0    19                   0           88                    79   \n",
       "1    5    12                   0           67                    62   \n",
       "2    0    15                   4            7                     3   \n",
       "3    1    11                   1           60                    56   \n",
       "4    5    18                   0           67                    61   \n",
       "\n",
       "   no_of_images  no_of_sections  email_char  is_open  is_click  \n",
       "0            13               4         231        0         0  \n",
       "1            10               4         158        0         0  \n",
       "2             1               1         119        0         0  \n",
       "3            19               6          42        0         0  \n",
       "4            12               3         242        0         0  "
      ]
     },
     "execution_count": 353,
     "metadata": {},
     "output_type": "execute_result"
    }
   ],
   "source": [
    "train.head()"
   ]
  },
  {
   "cell_type": "code",
   "execution_count": 354,
   "metadata": {},
   "outputs": [
    {
     "data": {
      "text/plain": [
       "<seaborn.axisgrid.FacetGrid at 0x16cff13a780>"
      ]
     },
     "execution_count": 354,
     "metadata": {},
     "output_type": "execute_result"
    },
    {
     "data": {
      "image/png": "[encoded data removed]",
      "text/plain": [
       "<matplotlib.figure.Figure at 0x16cdc6326d8>"
      ]
     },
     "metadata": {},
     "output_type": "display_data"
    }
   ],
   "source": [
    "import seaborn as sns\n",
    "num=[f for f in train.columns if train.dtypes[f]!='object']\n",
    "nd = pd.melt(train, value_vars = num)\n",
    "n1 = sns.FacetGrid(nd, col='variable', col_wrap=4, sharex=False, sharey = False)\n",
    "n1 = n1.map(sns.distplot, 'value')\n",
    "n1"
   ]
  },
  {
   "cell_type": "code",
   "execution_count": 368,
   "metadata": {},
   "outputs": [],
   "source": [
    "train=train[(train['communication_type']<=4) & (train['total_links']<=130) & (train['no_of_sections']<=4) & (train['no_of_internal_links']<=140)]"
   ]
  },
  {
   "cell_type": "markdown",
   "metadata": {},
   "source": [
    "#Trying Under Sampling\n",
    "from sklearn.utils import shuffle\n",
    "\n",
    "train_neg=train[train['is_click']==0]\n",
    "train_pos=train[train['is_click']==1]\n",
    "train_new=pd.concat([train_neg.iloc[:200000,:], train_pos,train_pos,train_pos,train_pos,train_pos,train_pos, train_pos, train_pos, train_pos])\n",
    "train_new=shuffle(train_new, random_state=42).reset_index(drop=True)\n",
    "print(\"Length of Neg:\",len(train_neg))\n",
    "print(\"Length of pos:\",len(train_pos))\n",
    "print(\"Length of Train_new:\", len(train_new))"
   ]
  },
  {
   "cell_type": "code",
   "execution_count": 369,
   "metadata": {},
   "outputs": [],
   "source": [
    "X_train=train.iloc[:,:-2]\n",
    "y_train=train.iloc[:,-1]"
   ]
  },
  {
   "cell_type": "code",
   "execution_count": 370,
   "metadata": {},
   "outputs": [],
   "source": [
    "from sklearn.model_selection import train_test_split\n",
    "from sklearn.metrics import classification_report\n",
    "from sklearn.metrics import roc_auc_score\n",
    "from sklearn.metrics import recall_score\n",
    "\n",
    "\n",
    "train_X, test_x, train_Y, test_y=train_test_split(X_train, y_train, test_size=0.3, random_state=42)\n",
    "columns = train_X.columns"
   ]
  },
  {
   "cell_type": "code",
   "execution_count": null,
   "metadata": {},
   "outputs": [],
   "source": [
    "#Undersampling with RandomUnderSampler\n",
    "\n",
    "from imblearn.under_sampling import RandomUnderSampler \n",
    "rus = RandomUnderSampler(ratio=1, random_state=42)\n",
    "train_x, train_y = rus.fit_sample(train_X, train_Y)\n",
    "train_x = pd.DataFrame(data=train_x,columns=columns)\n",
    "train_y= pd.DataFrame(data=train_y,columns=[\"is_click\"])\n",
    "# we can Check the numbers of our data\n",
    "print(\"length of oversampled data is \",len(train_x))\n",
    "print(\"Number of Negative class in oversampled data\",len(train_y[train_y[\"is_click\"]==0]))\n",
    "print(\"No.of postive class\",len(train_y[train_y[\"is_click\"]==1]))\n",
    "print(\"Proportion of Negative class in oversampled data is \",len(train_y[train_y[\"is_click\"]==0])/len(train_x))\n",
    "print(\"Proportion of postive class in oversampled data is \",len(train_y[train_y[\"is_click\"]==1])/len(train_x))"
   ]
  },
  {
   "cell_type": "code",
   "execution_count": 371,
   "metadata": {},
   "outputs": [
    {
     "name": "stderr",
     "output_type": "stream",
     "text": [
      "C:\\Users\\manth\\Anaconda3\\lib\\site-packages\\sklearn\\utils\\deprecation.py:77: DeprecationWarning: Function _ratio_float is deprecated; Use a float for 'ratio' is deprecated from version 0.2. The support will be removed in 0.4. Use a dict, str, or a callable instead.\n",
      "  warnings.warn(msg, category=DeprecationWarning)\n"
     ]
    },
    {
     "name": "stdout",
     "output_type": "stream",
     "text": [
      "length of oversampled data is  1180158\n",
      "Number of Negative class in oversampled data 590079\n",
      "No.of postive class 590079\n",
      "Proportion of Negative class in oversampled data is  0.5\n",
      "Proportion of postive class in oversampled data is  0.5\n"
     ]
    }
   ],
   "source": [
    "from imblearn.over_sampling import RandomOverSampler\n",
    "ros = RandomOverSampler(ratio=1, random_state=42)\n",
    "train_x, train_y = ros.fit_sample(train_X, train_Y)\n",
    "train_x = pd.DataFrame(data=train_x,columns=columns)\n",
    "train_y= pd.DataFrame(data=train_y,columns=[\"is_click\"])\n",
    "# we can Check the numbers of our data\n",
    "print(\"length of oversampled data is \",len(train_x))\n",
    "print(\"Number of Negative class in oversampled data\",len(train_y[train_y[\"is_click\"]==0]))\n",
    "print(\"No.of postive class\",len(train_y[train_y[\"is_click\"]==1]))\n",
    "print(\"Proportion of Negative class in oversampled data is \",len(train_y[train_y[\"is_click\"]==0])/len(train_x))\n",
    "print(\"Proportion of postive class in oversampled data is \",len(train_y[train_y[\"is_click\"]==1])/len(train_x))"
   ]
  },
  {
   "cell_type": "code",
   "execution_count": null,
   "metadata": {},
   "outputs": [],
   "source": [
    "#Oversamplinng with SMOTE\n",
    "\n",
    "from imblearn.over_sampling import SMOTE\n",
    "os = SMOTE(ratio=1, k=5, random_state=42)\n",
    "train_x,train_y=os.fit_sample(train_x,train_y)\n",
    "train_x = pd.DataFrame(data=train_x,columns=columns)\n",
    "train_y= pd.DataFrame(data=train_y,columns=[\"is_click\"])\n",
    "# we can Check the numbers of our data\n",
    "print(\"length of oversampled data is \",len(train_x))\n",
    "print(\"Number of Negative class in oversampled data\",len(train_y[train_y[\"is_click\"]==0]))\n",
    "print(\"No.of postive class\",len(train_y[train_y[\"is_click\"]==1]))\n",
    "print(\"Proportion of Negative class in oversampled data is \",len(train_y[train_y[\"is_click\"]==0])/len(train_x))\n",
    "print(\"Proportion of postive class in oversampled data is \",len(train_y[train_y[\"is_click\"]==1])/len(train_x))"
   ]
  },
  {
   "cell_type": "code",
   "execution_count": 372,
   "metadata": {},
   "outputs": [
    {
     "name": "stderr",
     "output_type": "stream",
     "text": [
      "C:\\Users\\manth\\Anaconda3\\lib\\site-packages\\sklearn\\utils\\validation.py:578: DataConversionWarning: A column-vector y was passed when a 1d array was expected. Please change the shape of y to (n_samples, ), for example using ravel().\n",
      "  y = column_or_1d(y, warn=True)\n"
     ]
    },
    {
     "name": "stdout",
     "output_type": "stream",
     "text": [
      "             precision    recall  f1-score   support\n",
      "\n",
      "          0       0.99      0.47      0.64    252986\n",
      "          1       0.01      0.60      0.02      2891\n",
      "\n",
      "avg / total       0.98      0.47      0.63    255877\n",
      "\n",
      "--------------------------------------------------\n",
      "roc_auc_score_lr:0.532588\n"
     ]
    }
   ],
   "source": [
    "from sklearn.linear_model import LogisticRegression\n",
    "lr=LogisticRegression(penalty='l2',C=10, random_state=42,class_weight='balanced')\n",
    "lr.fit(train_x, train_y)\n",
    "pred_y_lr=lr.predict(test_x)\n",
    "print(classification_report(test_y, pred_y_lr))\n",
    "print(\"-\"*50)\n",
    "print('roc_auc_score_lr:%4f' %roc_auc_score(test_y, pred_y_lr))"
   ]
  },
  {
   "cell_type": "code",
   "execution_count": 373,
   "metadata": {},
   "outputs": [
    {
     "name": "stderr",
     "output_type": "stream",
     "text": [
      "C:\\Users\\manth\\Anaconda3\\lib\\site-packages\\ipykernel_launcher.py:3: DataConversionWarning: A column-vector y was passed when a 1d array was expected. Please change the shape of y to (n_samples,), for example using ravel().\n",
      "  This is separate from the ipykernel package so we can avoid doing imports until\n"
     ]
    },
    {
     "name": "stdout",
     "output_type": "stream",
     "text": [
      "             precision    recall  f1-score   support\n",
      "\n",
      "          0       0.99      0.48      0.65    252986\n",
      "          1       0.01      0.62      0.03      2891\n",
      "\n",
      "avg / total       0.98      0.48      0.64    255877\n",
      "\n",
      "--------------------------------------------------\n",
      "roc_auc_score_rf:0.549620\n"
     ]
    }
   ],
   "source": [
    "from sklearn.ensemble import RandomForestClassifier\n",
    "rf = RandomForestClassifier(n_estimators=50, criterion='gini', max_depth=6, oob_score=True, random_state=42)\n",
    "rf.fit(train_x, train_y)\n",
    "pred_y_rf=rf.predict(test_x)\n",
    "print(classification_report(test_y, pred_y_rf))\n",
    "print(\"-\"*50)\n",
    "print('roc_auc_score_rf:%4f' %roc_auc_score(test_y, pred_y_rf))"
   ]
  },
  {
   "cell_type": "code",
   "execution_count": 374,
   "metadata": {},
   "outputs": [
    {
     "name": "stderr",
     "output_type": "stream",
     "text": [
      "C:\\Users\\manth\\Anaconda3\\lib\\site-packages\\sklearn\\preprocessing\\label.py:95: DataConversionWarning: A column-vector y was passed when a 1d array was expected. Please change the shape of y to (n_samples, ), for example using ravel().\n",
      "  y = column_or_1d(y, warn=True)\n",
      "C:\\Users\\manth\\Anaconda3\\lib\\site-packages\\sklearn\\preprocessing\\label.py:128: DataConversionWarning: A column-vector y was passed when a 1d array was expected. Please change the shape of y to (n_samples, ), for example using ravel().\n",
      "  y = column_or_1d(y, warn=True)\n"
     ]
    },
    {
     "name": "stdout",
     "output_type": "stream",
     "text": [
      "             precision    recall  f1-score   support\n",
      "\n",
      "          0       0.99      0.53      0.69    252986\n",
      "          1       0.01      0.57      0.03      2891\n",
      "\n",
      "avg / total       0.98      0.53      0.68    255877\n",
      "\n",
      "--------------------------------------------------\n",
      "roc_auc_score_xgb:0.548501\n"
     ]
    },
    {
     "name": "stderr",
     "output_type": "stream",
     "text": [
      "C:\\Users\\manth\\Anaconda3\\lib\\site-packages\\sklearn\\preprocessing\\label.py:151: DeprecationWarning: The truth value of an empty array is ambiguous. Returning False, but in future this will result in an error. Use `array.size > 0` to check that an array is not empty.\n",
      "  if diff:\n"
     ]
    }
   ],
   "source": [
    "#Appying XGboost\n",
    "\n",
    "from xgboost.sklearn import XGBClassifier\n",
    "xgb = XGBClassifier(learning_rate=1, n_estimators=50, max_depth=4)\n",
    "xgb.fit(train_x, train_y)\n",
    "pred_y_xgb=xgb.predict(test_x)\n",
    "print(classification_report(test_y, pred_y_xgb))\n",
    "print(\"-\"*50)\n",
    "print('roc_auc_score_xgb:%4f' %roc_auc_score(test_y, pred_y_xgb))"
   ]
  },
  {
   "cell_type": "code",
   "execution_count": 375,
   "metadata": {},
   "outputs": [
    {
     "name": "stderr",
     "output_type": "stream",
     "text": [
      "C:\\Users\\manth\\Anaconda3\\lib\\site-packages\\sklearn\\utils\\validation.py:578: DataConversionWarning: A column-vector y was passed when a 1d array was expected. Please change the shape of y to (n_samples, ), for example using ravel().\n",
      "  y = column_or_1d(y, warn=True)\n"
     ]
    },
    {
     "name": "stdout",
     "output_type": "stream",
     "text": [
      "             precision    recall  f1-score   support\n",
      "\n",
      "          0       0.99      0.53      0.69    252986\n",
      "          1       0.01      0.57      0.03      2891\n",
      "\n",
      "avg / total       0.98      0.53      0.68    255877\n",
      "\n",
      "--------------------------------------------------\n",
      "roc_auc_score_ada:0.548501\n"
     ]
    }
   ],
   "source": [
    "from sklearn.ensemble import AdaBoostClassifier\n",
    "from sklearn.tree import DecisionTreeClassifier\n",
    "\n",
    "tree = DecisionTreeClassifier(criterion='gini',max_depth=4)\n",
    "ada = AdaBoostClassifier(base_estimator=tree, n_estimators=50, learning_rate=1, random_state=42)\n",
    "ada.fit(train_x, train_y)\n",
    "pred_y_ada=ada.predict(test_x)\n",
    "print(classification_report(test_y, pred_y_ada))\n",
    "print(\"-\"*50)\n",
    "print('roc_auc_score_ada:%4f' %roc_auc_score(test_y, pred_y_ada))"
   ]
  },
  {
   "cell_type": "code",
   "execution_count": 376,
   "metadata": {},
   "outputs": [
    {
     "name": "stderr",
     "output_type": "stream",
     "text": [
      "C:\\Users\\manth\\Anaconda3\\lib\\site-packages\\sklearn\\preprocessing\\label.py:95: DataConversionWarning: A column-vector y was passed when a 1d array was expected. Please change the shape of y to (n_samples, ), for example using ravel().\n",
      "  y = column_or_1d(y, warn=True)\n",
      "C:\\Users\\manth\\Anaconda3\\lib\\site-packages\\sklearn\\preprocessing\\label.py:128: DataConversionWarning: A column-vector y was passed when a 1d array was expected. Please change the shape of y to (n_samples, ), for example using ravel().\n",
      "  y = column_or_1d(y, warn=True)\n",
      "C:\\Users\\manth\\Anaconda3\\lib\\site-packages\\sklearn\\preprocessing\\label.py:151: DeprecationWarning: The truth value of an empty array is ambiguous. Returning False, but in future this will result in an error. Use `array.size > 0` to check that an array is not empty.\n",
      "  if diff:\n"
     ]
    },
    {
     "name": "stdout",
     "output_type": "stream",
     "text": [
      "             precision    recall  f1-score   support\n",
      "\n",
      "          0       0.99      0.53      0.69    252986\n",
      "          1       0.01      0.57      0.03      2891\n",
      "\n",
      "avg / total       0.98      0.53      0.68    255877\n",
      "\n"
     ]
    },
    {
     "name": "stderr",
     "output_type": "stream",
     "text": [
      "C:\\Users\\manth\\Anaconda3\\lib\\site-packages\\sklearn\\preprocessing\\label.py:151: DeprecationWarning: The truth value of an empty array is ambiguous. Returning False, but in future this will result in an error. Use `array.size > 0` to check that an array is not empty.\n",
      "  if diff:\n"
     ]
    }
   ],
   "source": [
    "#Applying model in test data\n",
    "\n",
    "from sklearn.ensemble import VotingClassifier\n",
    "\n",
    "eclf = VotingClassifier(estimators=[('forest', rf), ('xgb', xgb), ('adboost', ada)], voting='hard')\n",
    "eclf.fit(train_x, train_y)\n",
    "pred_y_eclf=eclf.predict(test_x)\n",
    "print(classification_report(test_y, pred_y_ada))\n",
    "#print(\"-\"*50)\n",
    "#print('roc_auc_score_eclf:%4f' %roc_auc_score(test_y, pred_y_eclf))"
   ]
  },
  {
   "cell_type": "code",
   "execution_count": 377,
   "metadata": {},
   "outputs": [
    {
     "name": "stderr",
     "output_type": "stream",
     "text": [
      "C:\\Users\\manth\\Anaconda3\\lib\\site-packages\\sklearn\\preprocessing\\label.py:151: DeprecationWarning: The truth value of an empty array is ambiguous. Returning False, but in future this will result in an error. Use `array.size > 0` to check that an array is not empty.\n",
      "  if diff:\n",
      "C:\\Users\\manth\\Anaconda3\\lib\\site-packages\\sklearn\\preprocessing\\label.py:151: DeprecationWarning: The truth value of an empty array is ambiguous. Returning False, but in future this will result in an error. Use `array.size > 0` to check that an array is not empty.\n",
      "  if diff:\n"
     ]
    }
   ],
   "source": [
    "predictions=eclf.predict(test)"
   ]
  },
  {
   "cell_type": "code",
   "execution_count": 378,
   "metadata": {},
   "outputs": [
    {
     "data": {
      "text/html": [
       "<div>\n",
       "<style scoped>\n",
       "    .dataframe tbody tr th:only-of-type {\n",
       "        vertical-align: middle;\n",
       "    }\n",
       "\n",
       "    .dataframe tbody tr th {\n",
       "        vertical-align: top;\n",
       "    }\n",
       "\n",
       "    .dataframe thead th {\n",
       "        text-align: right;\n",
       "    }\n",
       "</style>\n",
       "<table border=\"1\" class=\"dataframe\">\n",
       "  <thead>\n",
       "    <tr style=\"text-align: right;\">\n",
       "      <th></th>\n",
       "      <th>id</th>\n",
       "      <th>is_click</th>\n",
       "    </tr>\n",
       "  </thead>\n",
       "  <tbody>\n",
       "    <tr>\n",
       "      <th>0</th>\n",
       "      <td>63_122715</td>\n",
       "      <td>1</td>\n",
       "    </tr>\n",
       "    <tr>\n",
       "      <th>1</th>\n",
       "      <td>56_76206</td>\n",
       "      <td>1</td>\n",
       "    </tr>\n",
       "    <tr>\n",
       "      <th>2</th>\n",
       "      <td>57_96189</td>\n",
       "      <td>0</td>\n",
       "    </tr>\n",
       "    <tr>\n",
       "      <th>3</th>\n",
       "      <td>56_166917</td>\n",
       "      <td>1</td>\n",
       "    </tr>\n",
       "    <tr>\n",
       "      <th>4</th>\n",
       "      <td>56_172838</td>\n",
       "      <td>1</td>\n",
       "    </tr>\n",
       "  </tbody>\n",
       "</table>\n",
       "</div>"
      ],
      "text/plain": [
       "          id  is_click\n",
       "0  63_122715         1\n",
       "1   56_76206         1\n",
       "2   57_96189         0\n",
       "3  56_166917         1\n",
       "4  56_172838         1"
      ]
     },
     "execution_count": 378,
     "metadata": {},
     "output_type": "execute_result"
    }
   ],
   "source": [
    "temp=pd.DataFrame(predictions, columns=['is_click'], index=None)\n",
    "\n",
    "test_predictions=pd.DataFrame(index=None)\n",
    "test_predictions['id']=test_base['id']\n",
    "test_predictions=pd.concat([test_predictions, temp], axis=1)\n",
    "test_predictions.head()"
   ]
  },
  {
   "cell_type": "code",
   "execution_count": 379,
   "metadata": {},
   "outputs": [],
   "source": [
    "test_predictions.to_csv('test_predictions.csv', index=False)"
   ]
  },
  {
   "cell_type": "code",
   "execution_count": null,
   "metadata": {},
   "outputs": [],
   "source": []
  },
  {
   "cell_type": "code",
   "execution_count": null,
   "metadata": {},
   "outputs": [],
   "source": []
  }
 ],
 "metadata": {
  "kernelspec": {
   "display_name": "Python 3",
   "language": "python",
   "name": "python3"
  },
  "language_info": {
   "codemirror_mode": {
    "name": "ipython",
    "version": 3
   },
   "file_extension": ".py",
   "mimetype": "text/x-python",
   "name": "python",
   "nbconvert_exporter": "python",
   "pygments_lexer": "ipython3",
   "version": "3.6.4"
  }
 },
 "nbformat": 4,
 "nbformat_minor": 2
}
